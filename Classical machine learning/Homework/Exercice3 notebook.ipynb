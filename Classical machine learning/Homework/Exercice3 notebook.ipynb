{
 "cells": [
  {
   "cell_type": "code",
   "execution_count": 8,
   "id": "5b52e341",
   "metadata": {},
   "outputs": [],
   "source": [
    "from sklearn.datasets import load_breast_cancer\n",
    "from sklearn.model_selection import train_test_split"
   ]
  },
  {
   "cell_type": "code",
   "execution_count": 9,
   "id": "750ef22b",
   "metadata": {},
   "outputs": [
    {
     "name": "stdout",
     "output_type": "stream",
     "text": [
      "(398, 30) (171, 30) (398,) (171,)\n"
     ]
    }
   ],
   "source": [
    "#Split the dataset into a train and test dataset (70-30%)\n",
    "x,y=load_breast_cancer(return_X_y=True)\n",
    "x_train,x_test,y_train,y_test=train_test_split(x,y,test_size=0.3,random_state=0)\n",
    "print(x_train.shape,x_test.shape,y_train.shape,y_test.shape)"
   ]
  },
  {
   "cell_type": "code",
   "execution_count": 20,
   "id": "e75a8755",
   "metadata": {},
   "outputs": [
    {
     "name": "stdout",
     "output_type": "stream",
     "text": [
      "number of mislabled points from 171 points , is 13 \n",
      "0.07602339181286555\n"
     ]
    }
   ],
   "source": [
    "#Train it using:Gaussian naive bayes\n",
    "from sklearn.naive_bayes import GaussianNB\n",
    "gnb=GaussianNB()\n",
    "y_pred=gnb.fit(x_train , y_train).predict(x_test)\n",
    "#printing how many labelsare misclassified \n",
    "print(\"number of mislabled points from %d points , is %d \"%(x_test.shape[0],(y_test!=y_pred).sum()))\n",
    "err=1.0-metrics.accuracy_score(y_test,gnb.predict(x_test))\n",
    "print(err)"
   ]
  },
  {
   "cell_type": "code",
   "execution_count": 21,
   "id": "8fef88ef",
   "metadata": {},
   "outputs": [
    {
     "name": "stdout",
     "output_type": "stream",
     "text": [
      "0.368421052631579\n"
     ]
    }
   ],
   "source": [
    "#Train it using:SVM\n",
    "from sklearn import svm\n",
    "from sklearn import metrics\n",
    "clf=svm.SVC(gamma=\"auto\")\n",
    "clf.fit(x_train , y_train)\n",
    "clf.predict(x_test)\n",
    "err=1.0-metrics.accuracy_score(y_test,clf.predict(x_test))\n",
    "print(err)"
   ]
  },
  {
   "cell_type": "code",
   "execution_count": 24,
   "id": "9f9582e3",
   "metadata": {},
   "outputs": [
    {
     "name": "stdout",
     "output_type": "stream",
     "text": [
      "0.0292397660818714\n"
     ]
    },
    {
     "data": {
      "text/plain": [
       "<function matplotlib.pyplot.show(close=None, block=None)>"
      ]
     },
     "execution_count": 24,
     "metadata": {},
     "output_type": "execute_result"
    },
    {
     "data": {
      "image/png": "[encoded data removed]",
      "text/plain": [
       "<Figure size 432x288 with 1 Axes>"
      ]
     },
     "metadata": {
      "needs_background": "light"
     },
     "output_type": "display_data"
    }
   ],
   "source": [
    "#Decision trees\n",
    "from sklearn import tree\n",
    "from matplotlib import pyplot as plt \n",
    "clf=tree.DecisionTreeClassifier(criterion='entropy')\n",
    "clf=clf.fit(x_train , y_train)\n",
    "y_pred=clf.predict(x_test)\n",
    "err=1.0-metrics.accuracy_score(y_test,clf.predict(x_test))\n",
    "print(err)\n",
    "tree.plot_tree(clf)\n",
    "plt.show"
   ]
  },
  {
   "cell_type": "code",
   "execution_count": 27,
   "id": "9052448d",
   "metadata": {},
   "outputs": [
    {
     "name": "stdout",
     "output_type": "stream",
     "text": [
      "0.04678362573099415\n",
      "the number of mislabled points is  8\n"
     ]
    }
   ],
   "source": [
    "#Random forest\n",
    "from sklearn.ensemble import RandomForestClassifier\n",
    "clf = RandomForestClassifier(n_estimators=10,criterion='entropy',random_state=0)\n",
    "clf=clf.fit(x_train , y_train)\n",
    "y_pred=clf.predict(x_test)\n",
    "err=1.0-metrics.accuracy_score(y_test,clf.predict(x_test))\n",
    "print(err)\n",
    "print(\"the number of mislabled points is \" , int(err*len(y_pred)))\n"
   ]
  },
  {
   "cell_type": "code",
   "execution_count": null,
   "id": "73d4edba",
   "metadata": {},
   "outputs": [],
   "source": [
    "It is clear that the method that returns the best results is the one that returns the smallest error , the decision trees method"
   ]
  }
 ],
 "metadata": {
  "kernelspec": {
   "display_name": "Python 3",
   "language": "python",
   "name": "python3"
  },
  "language_info": {
   "codemirror_mode": {
    "name": "ipython",
    "version": 3
   },
   "file_extension": ".py",
   "mimetype": "text/x-python",
   "name": "python",
   "nbconvert_exporter": "python",
   "pygments_lexer": "ipython3",
   "version": "3.8.8"
  }
 },
 "nbformat": 4,
 "nbformat_minor": 5
}
