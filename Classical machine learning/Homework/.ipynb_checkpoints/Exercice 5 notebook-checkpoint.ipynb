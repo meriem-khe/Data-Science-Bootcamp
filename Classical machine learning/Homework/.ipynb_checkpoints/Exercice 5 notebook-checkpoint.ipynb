{
 "cells": [
  {
   "cell_type": "code",
   "execution_count": 1,
   "id": "681addbb",
   "metadata": {},
   "outputs": [],
   "source": [
    "from sklearn.datasets import load_digits\n",
    "from sklearn.svm import SVC\n",
    "from sklearn.model_selection import train_test_split\n",
    "from sklearn.model_selection import GridSearchCV\n",
    "from sklearn.metrics import classification_report , accuracy_score\n",
    "#import autosklearn.classification as automl"
   ]
  },
  {
   "cell_type": "code",
   "execution_count": 2,
   "id": "41d09b21",
   "metadata": {},
   "outputs": [],
   "source": [
    "df=load_digits()\n",
    "x=df.data\n",
    "y=df.target\n",
    "X_train, X_test, y_train, y_test = train_test_split(x,y,test_size = 0.2, random_state = 42)"
   ]
  },
  {
   "cell_type": "code",
   "execution_count": 3,
   "id": "d5bf1920",
   "metadata": {},
   "outputs": [],
   "source": [
    "# defining parameter range\n",
    "tuned_param = {'C': [1, 10, 100, 1000],\n",
    "              'gamma': [1e-3 , 1e-4],\n",
    "              'kernel': ['rbf','linear']}\n",
    "Scores=[\"precision\",\"recall\"]"
   ]
  },
  {
   "cell_type": "code",
   "execution_count": 4,
   "id": "03d2c773",
   "metadata": {},
   "outputs": [],
   "source": [
    "#definng the   grid search function \n",
    "from sklearn.model_selection import GridSearchCV\n",
    "\n",
    "def grid_search(X_train, X_test, y_train, y_test ,tuned_param,metric='pecision'):\n",
    "    print(\"#tuning hyper parameters for %s\" %metric)\n",
    "    clf=GridSearchCV(SVC(),tuned_param ,scoring=\"%s_macro\"%metric)\n",
    "    clf.fit(X_train, y_train)\n",
    "    print(\"Best params found\")\n",
    "    print(clf.best_params_)\n",
    "    print(\"Grid scores on developement set\")\n",
    "    print(clf.best_estimator_)\n",
    "    print()\n",
    "    means=clf.cv_results_['mean_test_score']\n",
    "    stds=clf.cv_results_['std_test_score']\n",
    "    for mean , std , params in zip(means,stds,clf.cv_results_['params']):\n",
    "        print('%0.3f (+/-%0.03f) for %r'%(mean,std*2,params))\n",
    "    print(\"Classification report\")\n",
    "    y_true,y_pred=y_test,clf.predict(X_test)\n",
    "    print(classification_report(y_test, y_pred))\n",
    "    "
   ]
  },
  {
   "cell_type": "code",
   "execution_count": 5,
   "id": "6123b54b",
   "metadata": {},
   "outputs": [
    {
     "name": "stdout",
     "output_type": "stream",
     "text": [
      "#tuning hyper parameters for precision\n",
      "Best params found\n",
      "{'C': 10, 'gamma': 0.001, 'kernel': 'rbf'}\n",
      "Grid scores on developement set\n",
      "SVC(C=10, gamma=0.001)\n",
      "\n",
      "0.988 (+/-0.008) for {'C': 1, 'gamma': 0.001, 'kernel': 'rbf'}\n",
      "0.972 (+/-0.016) for {'C': 1, 'gamma': 0.001, 'kernel': 'linear'}\n",
      "0.971 (+/-0.018) for {'C': 1, 'gamma': 0.0001, 'kernel': 'rbf'}\n",
      "0.972 (+/-0.016) for {'C': 1, 'gamma': 0.0001, 'kernel': 'linear'}\n",
      "0.990 (+/-0.007) for {'C': 10, 'gamma': 0.001, 'kernel': 'rbf'}\n",
      "0.972 (+/-0.016) for {'C': 10, 'gamma': 0.001, 'kernel': 'linear'}\n",
      "0.983 (+/-0.012) for {'C': 10, 'gamma': 0.0001, 'kernel': 'rbf'}\n",
      "0.972 (+/-0.016) for {'C': 10, 'gamma': 0.0001, 'kernel': 'linear'}\n",
      "0.990 (+/-0.007) for {'C': 100, 'gamma': 0.001, 'kernel': 'rbf'}\n",
      "0.972 (+/-0.016) for {'C': 100, 'gamma': 0.001, 'kernel': 'linear'}\n",
      "0.985 (+/-0.006) for {'C': 100, 'gamma': 0.0001, 'kernel': 'rbf'}\n",
      "0.972 (+/-0.016) for {'C': 100, 'gamma': 0.0001, 'kernel': 'linear'}\n",
      "0.990 (+/-0.007) for {'C': 1000, 'gamma': 0.001, 'kernel': 'rbf'}\n",
      "0.972 (+/-0.016) for {'C': 1000, 'gamma': 0.001, 'kernel': 'linear'}\n",
      "0.985 (+/-0.006) for {'C': 1000, 'gamma': 0.0001, 'kernel': 'rbf'}\n",
      "0.972 (+/-0.016) for {'C': 1000, 'gamma': 0.0001, 'kernel': 'linear'}\n",
      "Classification report\n",
      "              precision    recall  f1-score   support\n",
      "\n",
      "           0       1.00      1.00      1.00        33\n",
      "           1       1.00      1.00      1.00        28\n",
      "           2       1.00      1.00      1.00        33\n",
      "           3       1.00      0.97      0.99        34\n",
      "           4       1.00      1.00      1.00        46\n",
      "           5       0.98      0.98      0.98        47\n",
      "           6       0.97      1.00      0.99        35\n",
      "           7       0.97      0.97      0.97        34\n",
      "           8       1.00      1.00      1.00        30\n",
      "           9       0.97      0.97      0.97        40\n",
      "\n",
      "    accuracy                           0.99       360\n",
      "   macro avg       0.99      0.99      0.99       360\n",
      "weighted avg       0.99      0.99      0.99       360\n",
      "\n"
     ]
    }
   ],
   "source": [
    "import warnings\n",
    "warnings.filterwarnings(\"ignore\")\n",
    "\n",
    "#grid search using the precision\n",
    "grid_search(X_train, X_test, y_train, y_test ,tuned_param,Scores[0])"
   ]
  },
  {
   "cell_type": "code",
   "execution_count": 6,
   "id": "4fe72d44",
   "metadata": {},
   "outputs": [
    {
     "name": "stdout",
     "output_type": "stream",
     "text": [
      "#tuning hyper parameters for recall\n",
      "Best params found\n",
      "{'C': 10, 'gamma': 0.001, 'kernel': 'rbf'}\n",
      "Grid scores on developement set\n",
      "SVC(C=10, gamma=0.001)\n",
      "\n",
      "0.987 (+/-0.008) for {'C': 1, 'gamma': 0.001, 'kernel': 'rbf'}\n",
      "0.971 (+/-0.017) for {'C': 1, 'gamma': 0.001, 'kernel': 'linear'}\n",
      "0.969 (+/-0.020) for {'C': 1, 'gamma': 0.0001, 'kernel': 'rbf'}\n",
      "0.971 (+/-0.017) for {'C': 1, 'gamma': 0.0001, 'kernel': 'linear'}\n",
      "0.989 (+/-0.008) for {'C': 10, 'gamma': 0.001, 'kernel': 'rbf'}\n",
      "0.971 (+/-0.017) for {'C': 10, 'gamma': 0.001, 'kernel': 'linear'}\n",
      "0.982 (+/-0.014) for {'C': 10, 'gamma': 0.0001, 'kernel': 'rbf'}\n",
      "0.971 (+/-0.017) for {'C': 10, 'gamma': 0.0001, 'kernel': 'linear'}\n",
      "0.989 (+/-0.008) for {'C': 100, 'gamma': 0.001, 'kernel': 'rbf'}\n",
      "0.971 (+/-0.017) for {'C': 100, 'gamma': 0.001, 'kernel': 'linear'}\n",
      "0.984 (+/-0.007) for {'C': 100, 'gamma': 0.0001, 'kernel': 'rbf'}\n",
      "0.971 (+/-0.017) for {'C': 100, 'gamma': 0.0001, 'kernel': 'linear'}\n",
      "0.989 (+/-0.008) for {'C': 1000, 'gamma': 0.001, 'kernel': 'rbf'}\n",
      "0.971 (+/-0.017) for {'C': 1000, 'gamma': 0.001, 'kernel': 'linear'}\n",
      "0.984 (+/-0.007) for {'C': 1000, 'gamma': 0.0001, 'kernel': 'rbf'}\n",
      "0.971 (+/-0.017) for {'C': 1000, 'gamma': 0.0001, 'kernel': 'linear'}\n",
      "Classification report\n",
      "              precision    recall  f1-score   support\n",
      "\n",
      "           0       1.00      1.00      1.00        33\n",
      "           1       1.00      1.00      1.00        28\n",
      "           2       1.00      1.00      1.00        33\n",
      "           3       1.00      0.97      0.99        34\n",
      "           4       1.00      1.00      1.00        46\n",
      "           5       0.98      0.98      0.98        47\n",
      "           6       0.97      1.00      0.99        35\n",
      "           7       0.97      0.97      0.97        34\n",
      "           8       1.00      1.00      1.00        30\n",
      "           9       0.97      0.97      0.97        40\n",
      "\n",
      "    accuracy                           0.99       360\n",
      "   macro avg       0.99      0.99      0.99       360\n",
      "weighted avg       0.99      0.99      0.99       360\n",
      "\n"
     ]
    }
   ],
   "source": [
    "#grid search using the recall\n",
    "grid_search(X_train, X_test, y_train, y_test ,tuned_param,Scores[1])"
   ]
  },
  {
   "cell_type": "code",
   "execution_count": 7,
   "id": "b67dee4b",
   "metadata": {},
   "outputs": [],
   "source": [
    "#using the auto sklearn to find the best fitting classifier for this dataset\n"
   ]
  }
 ],
 "metadata": {
  "kernelspec": {
   "display_name": "Python 3",
   "language": "python",
   "name": "python3"
  },
  "language_info": {
   "codemirror_mode": {
    "name": "ipython",
    "version": 3
   },
   "file_extension": ".py",
   "mimetype": "text/x-python",
   "name": "python",
   "nbconvert_exporter": "python",
   "pygments_lexer": "ipython3",
   "version": "3.8.8"
  }
 },
 "nbformat": 4,
 "nbformat_minor": 5
}
